{
 "cells": [
  {
   "cell_type": "code",
   "execution_count": 10,
   "metadata": {},
   "outputs": [
    {
     "data": {
      "text/plain": [
       "['Aзія', 'Австралія', 'Південна Америка', 'Північна Америка']"
      ]
     },
     "execution_count": 10,
     "metadata": {},
     "output_type": "execute_result"
    }
   ],
   "source": [
    "Continents = ['Північна Америка','Південна Америка']\n",
    "Continents.append('Австралія',)\n",
    "Continents.append('Aзія')\n",
    "sorted(Continents)"
   ]
  },
  {
   "cell_type": "code",
   "execution_count": 47,
   "metadata": {},
   "outputs": [
    {
     "name": "stdout",
     "output_type": "stream",
     "text": [
      "['phone', 'samsung', 7800]\n",
      "['phone', 'iphone', 27800]\n",
      "Products that under your price ['phone', 'samsung', 7800]\n",
      "Products that under your price ['phone', 'iphone', 27800]\n",
      "Products that under your price ['notebook', 'dell', 28000]\n",
      "Products that under your price ['notebook', 'hp', 35000]\n"
     ]
    }
   ],
   "source": [
    "Info = str(input(\"write what do you want: \"))\n",
    "Price = int(input(\"write down your price: \"))\n",
    "\n",
    "goods = [\n",
    "\n",
    "    ['phone', 'samsung', 7800],\n",
    "\n",
    "    ['notebook', 'dell', 28000],\n",
    "\n",
    "    ['notebook', 'hp', 35000],\n",
    "\n",
    "    ['phone', 'iphone', 27800],\n",
    "]\n",
    "\n",
    "if Info == \"phone\":\n",
    "    print(goods[0])\n",
    "    print(goods[3])\n",
    "if Info == \"notebook\" :\n",
    "    print(\"This products you can buy\", goods[1])\n",
    "    print(goods[2])\n",
    "if Price <= 7801 :\n",
    "    print(\"Products that under your price\",goods[0])\n",
    "if Price <= 27801 :\n",
    "    print(\"Products that under your price\",goods[3])\n",
    "if Price <= 28001 :\n",
    "    print(\"Products that under your price\",goods[1])\n",
    "if Price <= 35001 :\n",
    "    print(\"Products that under your price\",goods[2])\n",
    "\n",
    "#трошки не так вийшло\n",
    "\n",
    "\n"
   ]
  }
 ],
 "metadata": {
  "interpreter": {
   "hash": "5f710dd8a9afe4f2a11b66a825aa2c5a428abbbc306f91dc7df212bf020fbd38"
  },
  "kernelspec": {
   "display_name": "Python 3.10.0 64-bit",
   "language": "python",
   "name": "python3"
  },
  "language_info": {
   "name": "python",
   "version": "3.10.0"
  },
  "orig_nbformat": 4
 },
 "nbformat": 4,
 "nbformat_minor": 2
}
