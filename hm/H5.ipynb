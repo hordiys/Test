{
 "cells": [
  {
   "cell_type": "code",
   "execution_count": 38,
   "metadata": {},
   "outputs": [
    {
     "name": "stdout",
     "output_type": "stream",
     "text": [
      "the length is 9\n"
     ]
    }
   ],
   "source": [
    "Surname = 'Skorbenko'\n",
    "Result = len(Surname)\n",
    "\n",
    "print ('the length is', Result)"
   ]
  },
  {
   "cell_type": "code",
   "execution_count": 61,
   "metadata": {},
   "outputs": [
    {
     "name": "stdout",
     "output_type": "stream",
     "text": [
      "fgfggfdhng\n"
     ]
    }
   ],
   "source": [
    "stringwith_numbers = input()\n",
    "\n",
    "new_string = ''\n",
    "numbers = \"0123456789\"\n",
    "for number in stringwith_numbers: \n",
    "    if number not in numbers :\n",
    "        new_string += number\n",
    "print(new_string)"
   ]
  },
  {
   "cell_type": "code",
   "execution_count": 80,
   "metadata": {},
   "outputs": [
    {
     "name": "stdout",
     "output_type": "stream",
     "text": [
      "your numbers is : ['3806778594638', '3806857498635', '3809745687678', '3804434674657']\n"
     ]
    }
   ],
   "source": [
    "Phone_numbers  =[\"3806778594638\",\"3806857498635\", \"3809745687678\", \"3804434674657\", \"3800012673454\", \"3802345674674\"]\n",
    "results =  []\n",
    "\n",
    "for i in Phone_numbers: \n",
    "    if len(i) == 13:\n",
    "        string = i\n",
    "        if string.startswith(\"38067\") or string.startswith(\"38068\") or string.startswith(\"38097\") or string.startswith(\"38044\"):\n",
    "            results.append(i)\n",
    "            \n",
    "print (\"your numbers is :\",results)\n",
    " \n",
    "\n"
   ]
  }
 ],
 "metadata": {
  "interpreter": {
   "hash": "5f710dd8a9afe4f2a11b66a825aa2c5a428abbbc306f91dc7df212bf020fbd38"
  },
  "kernelspec": {
   "display_name": "Python 3.10.0 64-bit",
   "language": "python",
   "name": "python3"
  },
  "language_info": {
   "codemirror_mode": {
    "name": "ipython",
    "version": 3
   },
   "file_extension": ".py",
   "mimetype": "text/x-python",
   "name": "python",
   "nbconvert_exporter": "python",
   "pygments_lexer": "ipython3",
   "version": "3.10.0"
  },
  "orig_nbformat": 4
 },
 "nbformat": 4,
 "nbformat_minor": 2
}
