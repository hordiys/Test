{
 "cells": [
  {
   "cell_type": "code",
   "execution_count": 105,
   "metadata": {},
   "outputs": [
    {
     "name": "stdout",
     "output_type": "stream",
     "text": [
      "Скорбенко набрав 90\n"
     ]
    }
   ],
   "source": [
    "Grades = int(input (\"What is you grades? \"))\n",
    "if Grades < 60:\n",
    "  result = (\"не задовільно\")\n",
    "if Grades >= 60 <= 74 :\n",
    "   result = (\"задовільно\")\n",
    "if Grades >= 75 <= 94 :\n",
    "    result = (\"добре\")\n",
    "if Grades >= 95 <= 100 :\n",
    "    result = (\"відмінно\")\n",
    "\n",
    "print (f\"Скорбенко набрав\" '',Grades ) "
   ]
  }
 ],
 "metadata": {
  "interpreter": {
   "hash": "5f710dd8a9afe4f2a11b66a825aa2c5a428abbbc306f91dc7df212bf020fbd38"
  },
  "kernelspec": {
   "display_name": "Python 3.10.0 64-bit",
   "name": "python3"
  },
  "language_info": {
   "codemirror_mode": {
    "name": "ipython",
    "version": 3
   },
   "file_extension": ".py",
   "mimetype": "text/x-python",
   "name": "python",
   "nbconvert_exporter": "python",
   "pygments_lexer": "ipython3",
   "version": "3.10.0"
  },
  "orig_nbformat": 4
 },
 "nbformat": 4,
 "nbformat_minor": 2
}
