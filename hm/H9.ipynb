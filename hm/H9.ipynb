{
 "cells": [
  {
   "cell_type": "code",
   "execution_count": 14,
   "metadata": {},
   "outputs": [
    {
     "ename": "SyntaxError",
     "evalue": "invalid syntax (Temp/ipykernel_22140/3243877251.py, line 9)",
     "output_type": "error",
     "traceback": [
      "\u001b[1;36m  File \u001b[1;32m\"C:\\Users\\tooze\\AppData\\Local\\Temp/ipykernel_22140/3243877251.py\"\u001b[1;36m, line \u001b[1;32m9\u001b[0m\n\u001b[1;33m    print ('you cant book board for', peoples 'peoples')\u001b[0m\n\u001b[1;37m                                              ^\u001b[0m\n\u001b[1;31mSyntaxError\u001b[0m\u001b[1;31m:\u001b[0m invalid syntax\n"
     ]
    }
   ],
   "source": [
    "def board_book(aftername, peoples = 2):\n",
    "    if peoples > 1  :\n",
    "        if peoples <= 6 :\n",
    "            print (aftername, 'have booked board for', peoples)\n",
    "    else : \n",
    "        print ('something went wrong')\n",
    "\n",
    "    if peoples > 6:\n",
    "         print ('you cant book board for', peoples 'peoples')\n",
    "\n",
    "   \n",
    "    \n",
    "\n",
    "board_book ('Ivanov', 12 )\n",
    "board_book ('Ivanov', 4)"
   ]
  }
 ],
 "metadata": {
  "interpreter": {
   "hash": "5f710dd8a9afe4f2a11b66a825aa2c5a428abbbc306f91dc7df212bf020fbd38"
  },
  "kernelspec": {
   "display_name": "Python 3.10.0 64-bit",
   "language": "python",
   "name": "python3"
  },
  "language_info": {
   "codemirror_mode": {
    "name": "ipython",
    "version": 3
   },
   "file_extension": ".py",
   "mimetype": "text/x-python",
   "name": "python",
   "nbconvert_exporter": "python",
   "pygments_lexer": "ipython3",
   "version": "3.10.0"
  },
  "orig_nbformat": 4
 },
 "nbformat": 4,
 "nbformat_minor": 2
}
