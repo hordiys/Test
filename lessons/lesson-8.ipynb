{
 "cells": [
  {
   "cell_type": "code",
   "execution_count": 2,
   "metadata": {},
   "outputs": [
    {
     "name": "stdout",
     "output_type": "stream",
     "text": [
      "50\n",
      "changing x in 50\n",
      "x 50\n"
     ]
    }
   ],
   "source": [
    "x = 50\n",
    "\n",
    "def func():\n",
    "    x=2 \n",
    "    print (\"changing x in\", x)\n",
    "print(x)\n",
    "func()\n",
    "print('x',x)"
   ]
  },
  {
   "cell_type": "code",
   "execution_count": 4,
   "metadata": {},
   "outputs": [
    {
     "name": "stdout",
     "output_type": "stream",
     "text": [
      "4\n"
     ]
    }
   ],
   "source": [
    "def stepin(osnova, ste = 2):\n",
    "    return osnova ** ste\n",
    "\n",
    "print(stepin(2))"
   ]
  },
  {
   "cell_type": "code",
   "execution_count": 7,
   "metadata": {},
   "outputs": [
    {
     "name": "stdout",
     "output_type": "stream",
     "text": [
      "a = 3 b = 7 c = 10\n",
      "20\n"
     ]
    }
   ],
   "source": [
    "def func(a, b=5, c=10):\n",
    "    print('a =', a, 'b =', b, 'c =', c)\n",
    "    print (a + b + c)\n",
    "\n",
    "func(3,7)"
   ]
  },
  {
   "cell_type": "code",
   "execution_count": 18,
   "metadata": {},
   "outputs": [],
   "source": [
    "subscribers_list_News = list()\n",
    "subscribers_list_What_New = list()\n",
    "subscribers_list_Ads = list()\n",
    "\n",
    "def subscribe(email, is_news = True, is_new = True, is_ad = True):\n",
    "    global subscribers_list_News, subscribers_list_Ads, subscribers_list_What_New\n",
    "    if(is_news):\n",
    "        subscribers_list_News.append(email)\n",
    "    if(is_new):\n",
    "        subscribers_list_What_New.append(email)\n",
    "    if(is_ad):\n",
    "        subscribers_list_Ads.append(email)   \n",
    "\n",
    "def print_subscribers(subscribers_list, list_name):\n",
    "    delimiter = '---------------------------'\n",
    "    print('for sending {} folowed {} peoples{}'.format(list_name, len(subscribers_list)))\n",
    "\n",
    "    for email in subscribers_list:\n",
    "        print(email)\n",
    "    print (delimiter)\n",
    "    print()\n",
    "\n",
    "subscribe('ivanov@gmail.com')\n",
    "subscribe('oleksandra@gmail.com', False, False)\n"
   ]
  }
 ],
 "metadata": {
  "interpreter": {
   "hash": "5f710dd8a9afe4f2a11b66a825aa2c5a428abbbc306f91dc7df212bf020fbd38"
  },
  "kernelspec": {
   "display_name": "Python 3.10.0 64-bit",
   "language": "python",
   "name": "python3"
  },
  "language_info": {
   "codemirror_mode": {
    "name": "ipython",
    "version": 3
   },
   "file_extension": ".py",
   "mimetype": "text/x-python",
   "name": "python",
   "nbconvert_exporter": "python",
   "pygments_lexer": "ipython3",
   "version": "3.10.0"
  },
  "orig_nbformat": 4
 },
 "nbformat": 4,
 "nbformat_minor": 2
}
