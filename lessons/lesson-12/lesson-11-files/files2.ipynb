{
 "cells": [
  {
   "cell_type": "code",
   "execution_count": null,
   "metadata": {},
   "outputs": [],
   "source": [
    "fh = open('test.txt', 'w')\n",
    "symbols_written = fh.write('hello!')\n",
    "print(symbols_written)  # 6\n",
    "fh.close()\n"
   ]
  },
  {
   "cell_type": "code",
   "execution_count": 8,
   "metadata": {},
   "outputs": [
    {
     "name": "stdout",
     "output_type": "stream",
     "text": [
      "w\n",
      "or\n",
      "ld!\n"
     ]
    }
   ],
   "source": [
    "fh = open('test.txt', 'w')\n",
    "fh.write('hello world!')\n",
    "fh.close()\n",
    "\n",
    "fh = open('test.txt', 'r')\n",
    "first_two_symbols = fh.read(1)\n",
    "first_two_symbols = fh.read(2)\n",
    "first_two_symbols = fh.read(3)\n",
    "print(fh.read(1)) \n",
    "print( fh.read(2))\n",
    "print(fh.read(3)) # 'hello '\n",
    "fh.close()\n"
   ]
  },
  {
   "cell_type": "code",
   "execution_count": 9,
   "metadata": {},
   "outputs": [
    {
     "name": "stdout",
     "output_type": "stream",
     "text": [
      "hello!\n"
     ]
    }
   ],
   "source": [
    "fh = open('test.txt', 'w')\n",
    "fh.write('hello!')\n",
    "fh.close()\n",
    "\n",
    "fh = open('test.txt', 'r')\n",
    "all_file = fh.read()\n",
    "print(all_file)  # 'hello!'\n",
    "\n",
    "fh.close()\n"
   ]
  },
  {
   "cell_type": "code",
   "execution_count": 16,
   "metadata": {},
   "outputs": [
    {
     "name": "stdout",
     "output_type": "stream",
     "text": [
      "he ll o! "
     ]
    }
   ],
   "source": [
    "fh = open('test.txt', 'w')\n",
    "fh.write('hello!')\n",
    "fh.close()\n",
    "\n",
    "fh = open('test.txt', 'r')\n",
    "while True:\n",
    "    symbol = fh.read(2)\n",
    "    if len(symbol) == 0:\n",
    "        break\n",
    "    print(symbol, end= \" \")\n",
    "\n",
    "fh.close()\n"
   ]
  },
  {
   "cell_type": "code",
   "execution_count": null,
   "metadata": {},
   "outputs": [],
   "source": [
    "fh = open('test.txt', 'w')\n",
    "fh.write('first line\\nsecond line\\nthird line')\n",
    "fh.close()\n",
    "\n",
    "fh = open('test.txt', 'r')\n",
    "while True:\n",
    "    line = fh.readline()\n",
    "    if not line:\n",
    "        break\n",
    "    print(line)\n",
    "\n",
    "fh.close()\n"
   ]
  },
  {
   "cell_type": "code",
   "execution_count": null,
   "metadata": {},
   "outputs": [],
   "source": [
    "fh = open('test.txt', 'w')\n",
    "fh.write('first line\\nsecond line\\nthird line')\n",
    "fh.close()\n",
    "\n",
    "fh = open('test.txt', 'r')\n",
    "lines = fh.readlines()\n",
    "print(lines)\n",
    "\n",
    "fh.close()\n"
   ]
  },
  {
   "cell_type": "code",
   "execution_count": null,
   "metadata": {},
   "outputs": [],
   "source": [
    "fh = open('test.txt', 'w+')\n",
    "fh.write('hello!')\n",
    "\n",
    "fh.seek(1)\n",
    "second = fh.read(1)\n",
    "print(second)  # 'e'\n",
    "\n",
    "fh.close()\n"
   ]
  },
  {
   "cell_type": "code",
   "execution_count": null,
   "metadata": {},
   "outputs": [],
   "source": [
    "fh = open('test.txt', 'w+')\n",
    "fh.write('hello!')\n",
    "\n",
    "position = fh.tell()\n",
    "print(position) # 6\n",
    "\n",
    "fh.seek(1)\n",
    "position = fh.tell()\n",
    "print(position) # 1\n",
    "\n",
    "fh.read(2)\n",
    "position = fh.tell()\n",
    "print(position) # 3\n",
    "\n",
    "fh.close()\n"
   ]
  }
 ],
 "metadata": {
  "interpreter": {
   "hash": "38740d3277777e2cd7c6c2cc9d8addf5118fdf3f82b1b39231fd12aeac8aee8b"
  },
  "kernelspec": {
   "display_name": "Python 3.10.0 64-bit",
   "language": "python",
   "name": "python3"
  },
  "language_info": {
   "codemirror_mode": {
    "name": "ipython",
    "version": 3
   },
   "file_extension": ".py",
   "mimetype": "text/x-python",
   "name": "python",
   "nbconvert_exporter": "python",
   "pygments_lexer": "ipython3",
   "version": "3.10.0"
  },
  "orig_nbformat": 4
 },
 "nbformat": 4,
 "nbformat_minor": 2
}
