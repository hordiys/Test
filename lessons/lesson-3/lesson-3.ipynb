{
 "cells": [
  {
   "cell_type": "code",
   "execution_count": 2,
   "metadata": {},
   "outputs": [
    {
     "name": "stdout",
     "output_type": "stream",
     "text": [
      "andriy\n",
      "maksiml\n",
      "oksana\n"
     ]
    }
   ],
   "source": [
    "class_8a = [\"andriy\",\"maksiml\",\"oksana\"]\n",
    "\n",
    "for pupil in class_8a:\n",
    "    print (pupil)"
   ]
  },
  {
   "cell_type": "code",
   "execution_count": 5,
   "metadata": {},
   "outputs": [
    {
     "name": "stdout",
     "output_type": "stream",
     "text": [
      "20\n",
      "21\n",
      "22\n",
      "23\n",
      "24\n",
      "25\n",
      "26\n",
      "27\n",
      "28\n",
      "29\n",
      "30\n",
      "31\n",
      "32\n",
      "33\n",
      "34\n",
      "405\n"
     ]
    }
   ],
   "source": [
    "interval_left = int(input(\"enter left: \"))\n",
    "interval_right = int(input(\"enter right: \"))\n",
    "\n",
    "numbers = range (interval_left, interval_right)\n",
    "suma = 0\n",
    "\n",
    "for number in numbers:\n",
    "    print (number)\n",
    "    suma += int(number)\n",
    "    \n",
    "print(suma)"
   ]
  },
  {
   "cell_type": "code",
   "execution_count": 4,
   "metadata": {},
   "outputs": [
    {
     "name": "stdout",
     "output_type": "stream",
     "text": [
      "hi, am ban"
     ]
    }
   ],
   "source": [
    "message = \"hi, am ban\"\n",
    "for char in message:\n",
    "    print (char, end=\"\")"
   ]
  },
  {
   "cell_type": "code",
   "execution_count": 15,
   "metadata": {},
   "outputs": [
    {
     "ename": "SyntaxError",
     "evalue": "'break' outside loop (Temp/ipykernel_3804/788801036.py, line 13)",
     "output_type": "error",
     "traceback": [
      "\u001b[1;36m  File \u001b[1;32m\"C:\\Users\\tooze\\AppData\\Local\\Temp/ipykernel_3804/788801036.py\"\u001b[1;36m, line \u001b[1;32m13\u001b[0m\n\u001b[1;33m    break\u001b[0m\n\u001b[1;37m    ^\u001b[0m\n\u001b[1;31mSyntaxError\u001b[0m\u001b[1;31m:\u001b[0m 'break' outside loop\n"
     ]
    }
   ],
   "source": [
    "interval_left = int(input(\"enter left: \"))\n",
    "interval_right = int(input(\"enter right: \"))\n",
    "\n",
    "numbers = range (interval_left, interval_right)\n",
    "suma = 0\n",
    "suma_limit = 100\n",
    "\n",
    "for number in numbers:\n",
    "    print (number)\n",
    "    suma += int(number)\n",
    "\n",
    "if suma >= suma_limit : break\n",
    "else :\n",
    "    print (\"not break\")\n",
    "print(suma)"
   ]
  }
 ],
 "metadata": {
  "interpreter": {
   "hash": "5f710dd8a9afe4f2a11b66a825aa2c5a428abbbc306f91dc7df212bf020fbd38"
  },
  "kernelspec": {
   "display_name": "Python 3.10.0 64-bit",
   "name": "python3"
  },
  "language_info": {
   "codemirror_mode": {
    "name": "ipython",
    "version": 3
   },
   "file_extension": ".py",
   "mimetype": "text/x-python",
   "name": "python",
   "nbconvert_exporter": "python",
   "pygments_lexer": "ipython3",
   "version": "3.10.0"
  },
  "orig_nbformat": 4
 },
 "nbformat": 4,
 "nbformat_minor": 2
}
