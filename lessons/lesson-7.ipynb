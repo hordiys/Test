{
 "cells": [
  {
   "cell_type": "code",
   "execution_count": 16,
   "metadata": {},
   "outputs": [
    {
     "name": "stdout",
     "output_type": "stream",
     "text": [
      "220\n"
     ]
    }
   ],
   "source": [
    "#def hello():\n",
    "    #print (\"hello world\")\n",
    "#def hello_NAME(firstname, lastname):\n",
    "    #print (\"hello\",firstname, lastname)\n",
    "def max_of_2 (number_1, number_2):\n",
    "    result = None\n",
    "    if number_1 > number_2:\n",
    "        result = number_1\n",
    "    else :\n",
    "        result = number_2\n",
    "    return result\n",
    "        \n",
    "#hello()\n",
    "#hello_NAME(\"hordiy\", \"skorbenko\")\n",
    "number_1 = 15\n",
    "number_2 = 20\n",
    "max_a_b = max_of_2(220, 76)\n",
    "print(max_a_b)"
   ]
  },
  {
   "cell_type": "code",
   "execution_count": 58,
   "metadata": {},
   "outputs": [
    {
     "name": "stdout",
     "output_type": "stream",
     "text": [
      "2 ** 2 = 4\n"
     ]
    }
   ],
   "source": [
    "def sum(a, b):\n",
    "    return a + b\n",
    "\n",
    "def sub(a, b):\n",
    "    return a - b\n",
    "\n",
    "def mult(a, b):\n",
    "    return a * b\n",
    "\n",
    "def stepin(a,b):\n",
    "    return a**b\n",
    "\n",
    "def dilenya(a, b):\n",
    "    error_message = \"dilenya na 0\"\n",
    "\n",
    "\n",
    "    if b == 0:\n",
    "        return error_message\n",
    "    else:\n",
    "        return a / b\n",
    "\n",
    "def check_operation(operation):\n",
    "    return operation in [\"+\" \"-\" \"/\" \"*\" \"**\"]\n",
    "\n",
    "def calculate(operant_a, operant_b, operation):\n",
    "    result = None\n",
    "\n",
    "    if operation == \"+\":\n",
    "        result = sum(operant_a, operant_b)\n",
    "    elif operation == '-' :\n",
    "        result = sub(operant_a, operant_b)\n",
    "    elif operation == \"/\" :\n",
    "        result = dilenya(operant_a, operant_b)\n",
    "    elif operation == \"**\" :\n",
    "        result = stepin(operant_a, operant_b)\n",
    "    else:\n",
    "        result = mult(operant_a, operant_b)\n",
    "    print(operant_a, operation, operant_b, \"=\", result)\n",
    "\n",
    "a, user_input_operation, b = input(\"enter: \").split()\n",
    "\n",
    "#if not check_operation(user_input_operation):\n",
    "    #print(\"Operation\", user_input_operation, \"not suppoerted\" )\n",
    "#else:\n",
    "calculate(int(a), int(b), user_input_operation)"
   ]
  }
 ],
 "metadata": {
  "interpreter": {
   "hash": "5f710dd8a9afe4f2a11b66a825aa2c5a428abbbc306f91dc7df212bf020fbd38"
  },
  "kernelspec": {
   "display_name": "Python 3.10.0 64-bit",
   "language": "python",
   "name": "python3"
  },
  "language_info": {
   "codemirror_mode": {
    "name": "ipython",
    "version": 3
   },
   "file_extension": ".py",
   "mimetype": "text/x-python",
   "name": "python",
   "nbconvert_exporter": "python",
   "pygments_lexer": "ipython3",
   "version": "3.10.0"
  },
  "orig_nbformat": 4
 },
 "nbformat": 4,
 "nbformat_minor": 2
}
