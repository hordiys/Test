{
 "cells": [
  {
   "cell_type": "code",
   "execution_count": 3,
   "metadata": {},
   "outputs": [
    {
     "name": "stdout",
     "output_type": "stream",
     "text": [
      "Іванов Іван\n"
     ]
    }
   ],
   "source": [
    "transport = {\n",
    "    'AA1111AA': 'Іванов Іван',\n",
    "    'IVANOV'  : 'Іванов Іван',\n",
    "    'AA0007AA': 'Семенов Андрій',\n",
    "    'AA007AA' : 'Іванов Іван',\n",
    "    'AВ1111AВ': 'Вінниця Водоканал',\n",
    "    'AІ1010КК': 'Семенов Андрій',\n",
    "}\n",
    "transport ['AB1111AA'] = 'Sidorov Oleh'\n",
    "transport ['BH1111AA'] = 'Sidorova Olena'\n",
    "\n",
    "find_number = \"AA007AA\"\n",
    "\n",
    "car_owner = transport.get(find_number, False)\n",
    "if car_owner :\n",
    "    print (car_owner)\n",
    "else:\n",
    "    print (\"car not found\")\n",
    "\n",
    "\n",
    "People = dict()\n",
    "\n",
    "for car_number, fio in transport.items():\n",
    "\n",
    "    is_present = People.get(fio, False)\n",
    "\n",
    "    if is_present:\n",
    "        car_count = People[fio]\n",
    "        car_count += 1\n",
    "        People[fio] = car_count\n",
    "else: \n",
    "    People[fio] = 1\n",
    "for fio, car_count in People.items():\n",
    "    if car_count > 1:\n",
    "        print (fio, 'has -', car_count, 'cars')\n",
    "\n"
   ]
  },
  {
   "cell_type": "code",
   "execution_count": 9,
   "metadata": {},
   "outputs": [
    {
     "name": "stdout",
     "output_type": "stream",
     "text": [
      "The max dist is: 808 for Ужгород\n"
     ]
    }
   ],
   "source": [
    "cities = {\n",
    "    'Київ'    : 0, \n",
    "    'Вінниця' : 240, \n",
    "    'Харків'  : 470, \n",
    "    'Ужгород' : 808, \n",
    "    'Львів'   : 540, \n",
    "    'Житомир' : 120, \n",
    "    'Одеса'   : 430\n",
    "    }\n",
    "\n",
    "distance_max = 0\n",
    "city_name_max = ''\n",
    "for city_name_current, city_distance_current in cities.items() :\n",
    "    if city_distance_current > distance_max:\n",
    "        city_name_max = city_name_current\n",
    "        distance_max = city_distance_current\n",
    "print (\"The max dist is:\", distance_max, \"for\", city_name_max)"
   ]
  }
 ],
 "metadata": {
  "interpreter": {
   "hash": "5f710dd8a9afe4f2a11b66a825aa2c5a428abbbc306f91dc7df212bf020fbd38"
  },
  "kernelspec": {
   "display_name": "Python 3.10.0 64-bit",
   "language": "python",
   "name": "python3"
  },
  "language_info": {
   "codemirror_mode": {
    "name": "ipython",
    "version": 3
   },
   "file_extension": ".py",
   "mimetype": "text/x-python",
   "name": "python",
   "nbconvert_exporter": "python",
   "pygments_lexer": "ipython3",
   "version": "3.10.0"
  },
  "orig_nbformat": 4
 },
 "nbformat": 4,
 "nbformat_minor": 2
}
