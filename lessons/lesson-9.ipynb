{
 "cells": [
  {
   "cell_type": "code",
   "execution_count": null,
   "metadata": {},
   "outputs": [],
   "source": [
    "user_A = {\n",
    "    \"phone\" : \"+380001234567\"\n",
    "}\n",
    "\n",
    "def send_sms(user_info, message):\n",
    "    print ('Send sms to'{})"
   ]
  }
 ],
 "metadata": {
  "language_info": {
   "name": "python"
  },
  "orig_nbformat": 4
 },
 "nbformat": 4,
 "nbformat_minor": 2
}
