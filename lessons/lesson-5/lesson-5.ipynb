{
 "cells": [
  {
   "cell_type": "code",
   "execution_count": 6,
   "metadata": {},
   "outputs": [
    {
     "name": "stdout",
     "output_type": "stream",
     "text": [
      "Дякуємо за покупку\n",
      "Продаж продуктів за номером:\n",
      "Ви купили Мандарин\n",
      "Дякуємо за покупку\n",
      "Апельсин Картопля рожева Картопля молода Банан Картопля Апельсин Картопля рожева Картопля біла Банан Картопля "
     ]
    }
   ],
   "source": [
    "products = ['Апельсин', 'Банан', 'Мандарин']\n",
    "products_sold = list()\n",
    "\n",
    "#print('Постачання продуктів')\n",
    "\n",
    "'''while True:\n",
    "    product = input('Введіть назву продукту або 0 для виходу: ')\n",
    "\n",
    "    if product == '0' :\n",
    "        break\n",
    "    else:\n",
    "        products.append(product)\n",
    "'''\n",
    "\n",
    "products.extend(['Картопля', 'Цибуля'])\n",
    "\n",
    "#for product in products:\n",
    "    #print(product, end=' ')\n",
    "\n",
    "#print('----------------------')\n",
    "\n",
    "#print('Продаж продуктів за назвою:')\n",
    "\n",
    "#product = input('Введіть назву продукту, який бажаєте купити: ')\n",
    "\n",
    "if product in products:\n",
    "\t# видаляємо - продано, більше немає\n",
    "    products.remove(product)\n",
    "    products_sold.append(product)\n",
    "    print('Дякуємо за покупку')\n",
    "else:\n",
    "    print('Вказаного продукту немає в наявності')\n",
    "\n",
    "\n",
    "print('Продаж продуктів за номером:')\n",
    "product_index = int(input('Введіть номер продукту, який бажаєте купити: '))\n",
    "\n",
    "if 0 <= product_index < len(products):\n",
    "    product = products.pop(product_index)\n",
    "    products_sold.append(product)\n",
    "    print('Ви купили', product)\n",
    "    print('Дякуємо за покупку')\n",
    "else:\n",
    "    print('Неправильно вказаний номер')\n",
    "\n",
    "\n",
    "products.insert(1, 'Картопля молода')\n",
    "products.insert(1, 'Картопля рожева')\n",
    "\n",
    "for product in products:\n",
    "    print(product, end=' ')\n",
    "\n",
    "index_potato = products.index('Картопля молода')\n",
    "products[index_potato] = 'Картопля біла'\n",
    "\n",
    "for product in products:\n",
    "    print(product, end=' ')\n"
   ]
  },
  {
   "cell_type": "code",
   "execution_count": 5,
   "metadata": {},
   "outputs": [
    {
     "ename": "IndentationError",
     "evalue": "unexpected indent (Temp/ipykernel_9140/1379137309.py, line 2)",
     "output_type": "error",
     "traceback": [
      "\u001b[1;36m  File \u001b[1;32m\"C:\\Users\\tooze\\AppData\\Local\\Temp/ipykernel_9140/1379137309.py\"\u001b[1;36m, line \u001b[1;32m2\u001b[0m\n\u001b[1;33m    \"tf\"\u001b[0m\n\u001b[1;37m    ^\u001b[0m\n\u001b[1;31mIndentationError\u001b[0m\u001b[1;31m:\u001b[0m unexpected indent\n"
     ]
    }
   ],
   "source": [
    " text = \"hello my name is gustavo \"\n",
    "            \"tf\"\n",
    "print (text)"
   ]
  },
  {
   "cell_type": "code",
   "execution_count": 7,
   "metadata": {},
   "outputs": [
    {
     "name": "stdout",
     "output_type": "stream",
     "text": [
      "h\n",
      "r\n"
     ]
    }
   ],
   "source": [
    "name = \"hordiy skorbenko\"\n",
    "Name_start = name[0]\n",
    "lstname_start = name[-6]\n",
    "\n",
    "print (Name_start)\n",
    "print (lstname_start)\n",
    "\n",
    "if Name_start == lstname_start :\n",
    "    print (\"same names\")"
   ]
  },
  {
   "cell_type": "code",
   "execution_count": 9,
   "metadata": {},
   "outputs": [
    {
     "data": {
      "text/plain": [
       "'asdas'"
      ]
     },
     "execution_count": 9,
     "metadata": {},
     "output_type": "execute_result"
    }
   ],
   "source": [
    "string = \"asdasdasd\"\n",
    "string [:5]"
   ]
  }
 ],
 "metadata": {
  "interpreter": {
   "hash": "5f710dd8a9afe4f2a11b66a825aa2c5a428abbbc306f91dc7df212bf020fbd38"
  },
  "kernelspec": {
   "display_name": "Python 3.10.0 64-bit",
   "language": "python",
   "name": "python3"
  },
  "language_info": {
   "codemirror_mode": {
    "name": "ipython",
    "version": 3
   },
   "file_extension": ".py",
   "mimetype": "text/x-python",
   "name": "python",
   "nbconvert_exporter": "python",
   "pygments_lexer": "ipython3",
   "version": "3.10.0"
  },
  "orig_nbformat": 4
 },
 "nbformat": 4,
 "nbformat_minor": 2
}
